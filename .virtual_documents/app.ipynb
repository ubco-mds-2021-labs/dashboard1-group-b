import pandas as pd
import numpy as np
import altair as alt
energy_data=pd.read_csv("data/energydata_complete.csv",sep=",")
energy_data.head()


energy_data.describe()


energy_data.info()


alt.renderers.enable('mimetype')
alt.data_transformers.enable('data_server')


energy_data['date'] = pd.to_datetime(energy_data['date'])


energy_data.head()


energy_data['month'] = energy_data['date'].dt.month


energy_data_subset=energy_data[['Appliances','lights','date']]
energy_data_subset['month_full'] = energy_data_subset['date'].dt.month_name()
energy_data_subset=energy_data_subset.groupby('month_full', sort=False).sum().reset_index()
energy_data_subset=pd.melt(energy_data_subset,id_vars =['month_full'], value_vars=['Appliances', 'lights'])
energy_data_subset.head()


sort_order = ['January', 'February','March','April','May']
plot4 = alt.Chart(energy_data_subset).mark_area().encode(
    x=alt.X('month_full',sort=sort_order,axis=alt.Axis(title='Month', tickCount=10, grid=False,labelAngle=-360),
        scale=alt.Scale(zero=False,domain=list(sort_order))),y=alt.Y('value',axis=alt.Axis(title='Energy use in Wh',grid=False),
        scale=alt.Scale(zero=False) ),color=alt.Color('variable')
).properties(height=300,width=500,title="Energy Used in house"
).configure_axis(labelFontSize=14,titleFontSize=18) 



